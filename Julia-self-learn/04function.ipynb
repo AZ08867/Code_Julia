{
 "cells": [
  {
   "cell_type": "markdown",
   "metadata": {},
   "source": [
    "### 4 函数\n"
   ]
  },
  {
   "cell_type": "code",
   "execution_count": 1,
   "metadata": {},
   "outputs": [
    {
     "name": "stdout",
     "output_type": "stream",
     "text": [
      "x is 5 and y is 9\n"
     ]
    },
    {
     "data": {
      "text/plain": [
       "14"
      ]
     },
     "metadata": {},
     "output_type": "display_data"
    }
   ],
   "source": [
    "# 关键字 function 用于定义函数\n",
    "# function name(arglist)\n",
    "#   body...\n",
    "# end\n",
    "\n",
    "function add(x, y)\n",
    "    println(\"x is $x and y is $y\")\n",
    "    return x + y\n",
    "    # x + y 函数会返回最后一行的值\n",
    "end\n",
    "\n",
    "add(5, 9)"
   ]
  },
  {
   "cell_type": "code",
   "execution_count": 2,
   "metadata": {},
   "outputs": [
    {
     "data": {
      "text/plain": [
       "14"
      ]
     },
     "metadata": {},
     "output_type": "display_data"
    }
   ],
   "source": [
    "# 更紧凑的定义函数\n",
    "f_add(x, y) = x + y\n",
    "f_add(5, 9)"
   ]
  },
  {
   "cell_type": "code",
   "execution_count": 4,
   "metadata": {},
   "outputs": [
    {
     "data": {
      "text/plain": [
       "(7, -1, 12)"
      ]
     },
     "metadata": {},
     "output_type": "display_data"
    }
   ],
   "source": [
    "# 函数可以将多个值作为元组返回\n",
    "fn(x, y) = x + y, x - y, x * y # => fn (generic function with 1 method)\n",
    "fn(3, 4)  # => (7, -1, 12)"
   ]
  },
  {
   "cell_type": "code",
   "execution_count": 8,
   "metadata": {},
   "outputs": [
    {
     "name": "stdout",
     "output_type": "stream",
     "text": [
      "x is 5 and y is 6\n",
      "x is 5 and y is 6\n"
     ]
    },
    {
     "data": {
      "text/plain": [
       "11"
      ]
     },
     "metadata": {},
     "output_type": "display_data"
    }
   ],
   "source": [
    "# 还可以定义接收可变长参数的函数\n",
    "function varargs(args...)\n",
    "    return args\n",
    "    # 使用 return 可以在函数内的任何地方返回\n",
    "end\n",
    "# => varargs (generic function with 1 method)\n",
    "\n",
    "varargs(1, 2, 3) # => (1,2,3)\n",
    "\n",
    "# 省略号「...」称为 splat\n",
    "# 刚刚用在了函数定义中\n",
    "# 在调用函数时也可以使用它，此时它会把数组或元组解包为参数列表\n",
    "add([5, 6]...)  # 等价于 add(5,6)\n",
    "\n",
    "x = (5, 6)  # => (5,6)\n",
    "add(x...)  # 等价于 add(5,6)"
   ]
  },
  {
   "cell_type": "code",
   "execution_count": 11,
   "metadata": {},
   "outputs": [
    {
     "name": "stdout",
     "output_type": "stream",
     "text": [
      "MethodError(defaults, ('h',), 0x00000000000082f6)\n"
     ]
    }
   ],
   "source": [
    "# 可定义带可选参数的函数\n",
    "function defaults(a, b, x=5, y=6)\n",
    "    return \"$a $b and $x $y\"\n",
    "end\n",
    "# => defaults (generic function with 3 methods)\n",
    "\n",
    "defaults('h', 'g')  # => \"h g and 5 6\"\n",
    "defaults('h', 'g', 'j')  # => \"h g and j 6\"\n",
    "defaults('h', 'g', 'j', 'k')  # => \"h g and j k\"\n",
    "try\n",
    "    defaults('h')  # => ERROR: MethodError: no method matching defaults(::Char)\n",
    "    defaults()  # => ERROR: MethodError: no method matching defaults()\n",
    "catch e\n",
    "    println(e)\n",
    "end"
   ]
  },
  {
   "cell_type": "code",
   "execution_count": 15,
   "metadata": {},
   "outputs": [
    {
     "data": {
      "text/plain": [
       "Dict{String, Any} with 2 entries:\n",
       "  \"name2\" => \"hello\"\n",
       "  \"k1\"    => 4"
      ]
     },
     "metadata": {},
     "output_type": "display_data"
    }
   ],
   "source": [
    "# 还可以定义带关键字参数的函数\n",
    "function keyword_args(; k1=4, name2=\"hello\")# 注意分号 ';'\n",
    "    return Dict(\"k1\" => k1, \"name2\" => name2)\n",
    "end\n",
    "# => keyword_args (generic function with 1 method)\n",
    "keyword_args(name2=\"ness\")  # => [\"name2\"=>\"ness\", \"k1\"=>4]\n",
    "keyword_args(k1=\"mine\")     # => [\"name2\"=>\"hello\", \"k1\"=>\"mine\"]\n",
    "keyword_args()              # => [\"name2\"=>\"hello\", \"k1\"=>4]"
   ]
  },
  {
   "cell_type": "code",
   "execution_count": 17,
   "metadata": {},
   "outputs": [
    {
     "name": "stdout",
     "output_type": "stream",
     "text": [
      "1, 3, bar\n"
     ]
    }
   ],
   "source": [
    "# 可以在一个函数中组合各种类型的参数\n",
    "function all_the_args(normal_arg, optional_positional_arg=2;keyword_arg=\"foo\")\n",
    "    println(\"$normal_arg, $optional_positional_arg, $keyword_arg\")\n",
    "end\n",
    "# => all_the_args (generic function with 2 methods)\n",
    "\n",
    "all_the_args(1, 3, keyword_arg=\"bar\")\n",
    "# => 1, 3, bar"
   ]
  },
  {
   "cell_type": "code",
   "execution_count": 24,
   "metadata": {},
   "outputs": [
    {
     "data": {
      "text/plain": [
       "13"
      ]
     },
     "metadata": {},
     "output_type": "display_data"
    }
   ],
   "source": [
    "# Julia 有一等函数\n",
    "function create_adder(x)\n",
    "    adder = function (y)\n",
    "        return x + y\n",
    "    end\n",
    "    return adder\n",
    "end\n",
    "# => create_adder (generic function with 1 method)\n",
    "\n",
    "# 这是用 \"stabby lambda syntax\" 创建的匿名函数\n",
    "(x -> x > 2)(3) # => true\n",
    "\n",
    "# 这个函数和上面的 create_adder 是等价的\n",
    "function create_adder(x)\n",
    "    y -> x + y\n",
    "end\n",
    "# => create_adder (generic function with 1 method)\n",
    "\n",
    "# 你也可以给内部函数起个名字\n",
    "function create_adder(x)\n",
    "    function adder(y)\n",
    "        x + y\n",
    "    end\n",
    "    adder\n",
    "end\n",
    "# => create_adder (generic function with 1 method)\n",
    "\n",
    "add_10 = create_adder(10) # => (::getfield(Main, Symbol(\"#adder#11\")){Int64}) \n",
    "# (generic function with 1 method)\n",
    "add_10(3)  # => 13"
   ]
  },
  {
   "cell_type": "code",
   "execution_count": 23,
   "metadata": {},
   "outputs": [
    {
     "data": {
      "text/plain": [
       "3-element Vector{Int64}:\n",
       " 11\n",
       " 12\n",
       " 13"
      ]
     },
     "metadata": {},
     "output_type": "display_data"
    }
   ],
   "source": [
    "# 内置的高阶函数有\n",
    "map(add_10, [1, 2, 3])  # => [11, 12, 13]\n",
    "filter(x -> x > 5, [3, 4, 5, 6, 7])  # => [6, 7]\n",
    "\n",
    "# 还可以使用 list comprehensions 让 map 更美观\n",
    "[add_10(i) for i = [1, 2, 3]]   # => [11, 12, 13]\n",
    "[add_10(i) for i in [1, 2, 3]]  # => [11, 12, 13]"
   ]
  }
 ],
 "metadata": {
  "kernelspec": {
   "display_name": "Julia 1.9.4",
   "language": "julia",
   "name": "julia-1.9"
  },
  "language_info": {
   "file_extension": ".jl",
   "mimetype": "application/julia",
   "name": "julia",
   "version": "1.9.4"
  }
 },
 "nbformat": 4,
 "nbformat_minor": 2
}
