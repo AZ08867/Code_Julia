{
 "cells": [
  {
   "cell_type": "markdown",
   "metadata": {},
   "source": [
    "### 5 类型"
   ]
  },
  {
   "cell_type": "code",
   "execution_count": 2,
   "metadata": {},
   "outputs": [
    {
     "data": {
      "text/plain": [
       "Int64"
      ]
     },
     "metadata": {},
     "output_type": "display_data"
    }
   ],
   "source": [
    "# Julia 有类型系统\n",
    "# 所有的值都有类型；但变量本身没有类型\n",
    "# 你可以用 `typeof` 函数获得值的类型\n",
    "typeof(5) # => Int64"
   ]
  },
  {
   "cell_type": "code",
   "execution_count": 3,
   "metadata": {},
   "outputs": [
    {
     "data": {
      "text/plain": [
       "DataType"
      ]
     },
     "metadata": {},
     "output_type": "display_data"
    }
   ],
   "source": [
    "# 类型是一等值\n",
    "typeof(Int64)     # => DataType\n",
    "typeof(DataType)  # => DataType\n",
    "# DataType 是代表类型的类型，也代表他自己的类型"
   ]
  },
  {
   "cell_type": "code",
   "execution_count": 4,
   "metadata": {},
   "outputs": [
    {
     "data": {
      "text/plain": [
       "Tiger(5.6, \"fire\")"
      ]
     },
     "metadata": {},
     "output_type": "display_data"
    }
   ],
   "source": [
    "# 类型可用于文档化代码、执行优化以及多重派分(dispatch)\n",
    "# Julia 并不只是静态的检查类型\n",
    "\n",
    "# 用户还可以自定义类型\n",
    "# 就跟其它语言的 record 或 struct 一样\n",
    "# 用 `struct` 关键字定义新的类型\n",
    "\n",
    "# struct Name\n",
    "#   field::OptionalType\n",
    "#   ...\n",
    "# end\n",
    "struct Tiger\n",
    "    taillength::Float64\n",
    "    coatcolor  # 不带类型标注相当于 `::Any`\n",
    "end\n",
    "\n",
    "# 默认构造函数的参数是类型的属性，按类型定义中的顺序排列\n",
    "tigger = Tiger(3.5, \"orange\")  # => Tiger(3.5, \"orange\")\n",
    "\n",
    "# 用新类型作为构造函数还会创建一个类型\n",
    "sherekhan = typeof(tigger)(5.6, \"fire\")  # => Tiger(5.6, \"fire\")\n",
    "\n",
    "# 类似 struct 的类型被称为具体类型\n",
    "# 它们可被实例化，但不能有子类型"
   ]
  },
  {
   "cell_type": "code",
   "execution_count": 5,
   "metadata": {},
   "outputs": [
    {
     "data": {
      "text/plain": [
       "5-element Vector{Any}:\n",
       " Core.Compiler.LazyString\n",
       " LazyString\n",
       " String\n",
       " SubString\n",
       " SubstitutionString"
      ]
     },
     "metadata": {},
     "output_type": "display_data"
    }
   ],
   "source": [
    "# 另一种类型是抽象类型\n",
    "\n",
    "# 抽象类型名\n",
    "abstract type Cat end  # 仅仅是指向类型结构层次的一个名称\n",
    "\n",
    "# 抽象类型不能被实例化，但可以有子类型\n",
    "# 例如，Number 就是抽象类型\n",
    "\n",
    "subtypes(Number)\n",
    "# => 2-element Vector{Any}:\n",
    "# =>  Complex\n",
    "# =>  Real\n",
    "\n",
    "subtypes(Cat) # => Any[]\n",
    "\n",
    "# AbstractString，类如其名，也是一个抽象类型\n",
    "subtypes(AbstractString) \n",
    "# => 6-element Vector{Any}:\n",
    "# => Core.Compiler.LazyString\n",
    "# => LazyString\n",
    "# => String\n",
    "# => SubString\n",
    "# => SubstitutionString\n",
    "# => Test.GenericString"
   ]
  },
  {
   "cell_type": "code",
   "execution_count": 6,
   "metadata": {},
   "outputs": [
    {
     "data": {
      "text/plain": [
       "AbstractString"
      ]
     },
     "metadata": {},
     "output_type": "display_data"
    }
   ],
   "source": [
    "# 所有的类型都有父类型。可以用函数 `supertype` 得到父类型\n",
    "typeof(5) # => Int64\n",
    "supertype(Int64)    # => Signed\n",
    "supertype(Signed)   # => Integer\n",
    "supertype(Integer)  # => Real\n",
    "supertype(Real)     # => Number\n",
    "supertype(Number)   # => Any\n",
    "supertype(supertype(Signed))  # => Real\n",
    "supertype(Any)      # => Any\n",
    "# 除了 Int64 外，其余的类型都是抽象类型\n",
    "typeof(\"fire\")      # => String\n",
    "supertype(String)   # => AbstractString\n",
    "supertype(AbstractString) # => Any\n",
    "supertype(SubString)  # => AbstractString\n"
   ]
  },
  {
   "cell_type": "code",
   "execution_count": 7,
   "metadata": {},
   "outputs": [],
   "source": [
    "# <: 是子类型化操作符\n",
    "struct Lion <: Cat  # Lion 是 Cat 的子类型\n",
    "    mane_color\n",
    "    roar::AbstractString\n",
    "end\n",
    "\n",
    "# 可以继续为你的类型定义构造函数\n",
    "# 只需要定义一个与类型同名的函数，并调用已有的构造函数得到正确的类型\n",
    "Lion(roar::AbstractString) = Lion(\"green\", roar)  # => Lion\n",
    "# 这是一个外部构造函数，因为它在类型定义之外\n",
    "\n",
    "struct Panther <: Cat # Panther 也是 Cat 的子类型\n",
    "    eye_color\n",
    "    Panther() = new(\"green\")\n",
    "    # Panthers 只有这个构造函数，没有默认构造函数\n",
    "end\n",
    "# 像 Panther 一样使用内置构造函数，让你可以控制如何构建类型的值\n",
    "# 应该尽量使用外部构造函数，而不是内部构造函"
   ]
  },
  {
   "cell_type": "markdown",
   "metadata": {},
   "source": [
    "### 6 多分派（multiple distributed）"
   ]
  },
  {
   "cell_type": "code",
   "execution_count": 8,
   "metadata": {},
   "outputs": [
    {
     "data": {
      "text/plain": [
       "true"
      ]
     },
     "metadata": {},
     "output_type": "display_data"
    }
   ],
   "source": [
    "# Julia 中所有的函数都是通用函数，或者叫做泛型函数(generic functions)\n",
    "# 也就是说这些函数都是由许多小方法组合而成的\n",
    "# Lion 的每一种构造函数都是通用函数 Lion 的一个方法\n",
    "\n",
    "# 我们来看一个非构造函数的例子\n",
    "# 首先，让我们定义一个函数 meow\n",
    "\n",
    "# Lion, Panther, Tiger 的 meow 定义分别为\n",
    "function meow(animal::Lion)\n",
    "    animal.roar\n",
    "end\n",
    "# => meow (generic function with 1 method)\n",
    "\n",
    "function meow(animal::Panther)\n",
    "    \"grrr\"\n",
    "end\n",
    "# => meow (generic function with 2 methods)\n",
    "\n",
    "function meow(animal::Tiger)\n",
    "    \"rawwwr\"\n",
    "end\n",
    "# => meow (generic function with 3 methods)\n",
    "\n",
    "# 试试 meow 函数\n",
    "meow(tigger)  # => \"rawwwr\"\n",
    "meow(Lion(\"brown\", \"ROAAR\"))  # => \"ROAAR\"\n",
    "meow(Panther()) # => \"grrr\"\n",
    "\n",
    "# 回顾类型的层次结构\n",
    "Tiger <: Cat  # => false\n",
    "Lion <: Cat  # => true\n",
    "Panther <: Cat  # => true"
   ]
  },
  {
   "cell_type": "code",
   "execution_count": 9,
   "metadata": {},
   "outputs": [
    {
     "name": "stdout",
     "output_type": "stream",
     "text": [
      "The cat says 42"
     ]
    },
    {
     "name": "stdout",
     "output_type": "stream",
     "text": [
      "\n",
      "MethodError"
     ]
    },
    {
     "name": "stdout",
     "output_type": "stream",
     "text": [
      "(pet_cat, (Tiger(3.5, \"orange\"),), 0x0000000000007b08)\n"
     ]
    }
   ],
   "source": [
    "\n",
    "function pet_cat(cat::Cat)\n",
    "    println(\"The cat says $(meow(cat))\")\n",
    "end\n",
    "# => pet_cat (generic function with 1 method)\n",
    "\n",
    "pet_cat(Lion(\"42\"))  # => The cat says 42\n",
    "try\n",
    "    pet_cat(tigger)  # => ERROR: MethodError: no method matching pet_cat(::Tiger)\n",
    "catch e\n",
    "    println(e)\n",
    "end"
   ]
  },
  {
   "cell_type": "code",
   "execution_count": 10,
   "metadata": {},
   "outputs": [
    {
     "name": "stdout",
     "output_type": "stream",
     "text": [
      "The orange tiger wins!\n",
      "The orange tiger wins!\n"
     ]
    }
   ],
   "source": [
    "# 在面向对象语言中，通常都是单分派\n",
    "# 这意味着使用的方法取决于第一个参数的类型\n",
    "# 而 Julia 中选择方法时会考虑到所有参数的类型\n",
    "\n",
    "# 让我们定义一个有更多参数的函数，这样我们就能看出区别\n",
    "function fight(t::Tiger, c::Cat)\n",
    "    println(\"The $(t.coatcolor) tiger wins!\")\n",
    "end\n",
    "# => fight (generic function with 1 method)\n",
    "\n",
    "fight(tigger, Panther())  # => The orange tiger wins!\n",
    "fight(tigger, Lion(\"ROAR\")) # => fight(tigger, Lion(\"ROAR\"))\n"
   ]
  },
  {
   "cell_type": "code",
   "execution_count": 11,
   "metadata": {},
   "outputs": [
    {
     "name": "stdout",
     "output_type": "stream",
     "text": [
      "The orange tiger wins!\n",
      "The green-maned lion wins!\n"
     ]
    }
   ],
   "source": [
    "# 让我们修改一下传入 Lion 类型时的行为\n",
    "fight(t::Tiger, l::Lion) = println(\"The $(l.mane_color)-maned lion wins!\")\n",
    "# => fight (generic function with 2 methods)\n",
    "\n",
    "fight(tigger, Panther())  # => The orange tiger wins!\n",
    "fight(tigger, Lion(\"ROAR\"))  # => The brown-maned lion wins!"
   ]
  },
  {
   "cell_type": "code",
   "execution_count": 12,
   "metadata": {},
   "outputs": [
    {
     "name": "stdout",
     "output_type": "stream",
     "text": [
      "The victorious cat says grrr\n",
      "MethodError(fight, (Panther(\"green\"), Lion(\"green\", \"RAWR\")), 0x0000000000007b0b)\n"
     ]
    }
   ],
   "source": [
    "# 我们不需要一只老虎参与战斗\n",
    "fight(l::Lion, c::Cat) = println(\"The victorious cat says $(meow(c))\")\n",
    "# => fight (generic function with 3 methods)\n",
    "\n",
    "fight(Lion(\"balooga!\"), Panther())  # => The victorious cat says grrr\n",
    "try\n",
    "    fight(Panther(), Lion(\"RAWR\"))\n",
    "    # => ERROR: MethodError: no method matching fight(::Panther, ::Lion)\n",
    "    # => Closest candidates are:\n",
    "    # =>   fight(::Tiger, ::Lion) at ...\n",
    "    # =>   fight(::Tiger, ::Cat) at ...\n",
    "    # =>   fight(::Lion, ::Cat) at ...\n",
    "    # => ...\n",
    "catch e\n",
    "    println(e)\n",
    "end"
   ]
  },
  {
   "cell_type": "code",
   "execution_count": 13,
   "metadata": {},
   "outputs": [
    {
     "name": "stdout",
     "output_type": "stream",
     "text": [
      "MethodError(fight, (Lion(\"green\", \"RAR\"), Lion(\"brown\", \"rarrr\")), 0x0000000000007b0c)\n"
     ]
    }
   ],
   "source": [
    "# 试试把 Cat 放在前面\n",
    "fight(c::Cat, l::Lion) = println(\"The cat beats the Lion\")\n",
    "# => fight (generic function with 4 methods)\n",
    "\n",
    "# 由于无法判断该使用哪个 fight 方法，而产生了错误\n",
    "try\n",
    "    fight(Lion(\"RAR\"), Lion(\"brown\", \"rarrr\"))\n",
    "    # => ERROR: MethodError: fight(::Lion, ::Lion) is ambiguous. Candidates:\n",
    "    # =>   fight(c::Cat, l::Lion) in Main at ...\n",
    "    # =>   fight(l::Lion, c::Cat) in Main at ...\n",
    "    # => Possible fix, define\n",
    "    # =>   fight(::Lion, ::Lion)\n",
    "    # => ...\n",
    "catch e\n",
    "    println(e)\n",
    "end"
   ]
  },
  {
   "cell_type": "code",
   "execution_count": 14,
   "metadata": {},
   "outputs": [
    {
     "name": "stdout",
     "output_type": "stream",
     "text": [
      "The lions come to a tie\n"
     ]
    }
   ],
   "source": [
    "fight(l::Lion, l2::Lion) = println(\"The lions come to a tie\")\n",
    "fight(Lion(\"RAR\"), Lion(\"brown\", \"rarrr\"))"
   ]
  }
 ],
 "metadata": {
  "kernelspec": {
   "display_name": "Julia 1.10.0",
   "language": "julia",
   "name": "julia-1.10"
  },
  "language_info": {
   "file_extension": ".jl",
   "mimetype": "application/julia",
   "name": "julia",
   "version": "1.10.0"
  }
 },
 "nbformat": 4,
 "nbformat_minor": 2
}
