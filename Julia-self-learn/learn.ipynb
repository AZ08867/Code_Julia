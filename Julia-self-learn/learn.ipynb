{
 "cells": [
  {
   "cell_type": "markdown",
   "metadata": {},
   "source": [
    "### 1 原始类型与操作符"
   ]
  },
  {
   "cell_type": "code",
   "execution_count": 1,
   "metadata": {},
   "outputs": [
    {
     "data": {
      "text/plain": [
       "Rational{Int64}"
      ]
     },
     "execution_count": 1,
     "metadata": {},
     "output_type": "execute_result"
    }
   ],
   "source": [
    "#= 多行注释\n",
    "   只需要以「#=」开始「=#」结束\n",
    "   还可以嵌套.\n",
    "=#\n",
    "\n",
    "# Julia 中一切皆为表达式\n",
    "\n",
    "# 这是一些基本数字类型\n",
    "typeof(3)       # => Int64\n",
    "typeof(3.2)     # => Float64\n",
    "typeof(2 + 1im) # => Complex{Int64}\n",
    "typeof(2 // 3)  # => Rational{Int64}"
   ]
  },
  {
   "cell_type": "code",
   "execution_count": null,
   "metadata": {},
   "outputs": [],
   "source": [
    "# 支持所有的普通中缀操作符\n",
    "1 + 1      # => 2\n",
    "8 - 1      # => 7\n",
    "10 * 2     # => 20\n",
    "35 / 5     # => 7.0\n",
    "10 / 2     # => 5.0  # 整数除法总是返回浮点数\n",
    "div(5, 2)  # => 2    # 使用 div 可以获得整除的结果\n",
    "5 \\ 35     # => 7.0\n",
    "2^2        # => 4    # 幂运算，不是异或 (xor)\n",
    "12 % 10    # => 2\n",
    "6 * π\n",
    "# 用括号提高优先级\n",
    "(1 + 3) * 2 # => 8\n",
    "\n",
    "# 位操作符\n",
    "~2         # => -3 # 按位非 (not)\n",
    "3 & 5      # => 1  # 按位与 (and)\n",
    "2 | 4      # => 6  # 按位或 (or)\n",
    "xor(2, 4)  # => 6  # 按位异或 (xor)\n",
    "2 >>> 1    # => 1  # 逻辑右移\n",
    "2 >> 1     # => 1  # 算术右移\n",
    "2 << 1     # => 4  # 逻辑/算术左移\n",
    "\n",
    "# 可以用函数 bitstring 查看二进制数。\n",
    "bitstring(12345)\n",
    "# => \"0000000000000000000000000000000000000000000000000011000000111001\"\n",
    "bitstring(12345.0)\n",
    "# => \"0100000011001000000111001000000000000000000000000000000000000000\"\n",
    "\n",
    "# 布尔值是原始类型\n",
    "true\n",
    "false"
   ]
  },
  {
   "cell_type": "code",
   "execution_count": null,
   "metadata": {},
   "outputs": [],
   "source": [
    "# 布尔操作符\n",
    "!true   # => false\n",
    "!false  # => true\n",
    "1 == 1  # => true\n",
    "2 == 1  # => false\n",
    "1 != 1  # => false\n",
    "2 != 1  # => true\n",
    "1 < 10  # => true\n",
    "1 > 10  # => false\n",
    "2 <= 2  # => true\n",
    "2 >= 2  # => true\n",
    "\n",
    "# 链式比较\n",
    "1 < 2 < 3 # => true\n",
    "2 < 3 < 2 # => false\n",
    "\n",
    "# 字符串可以由「\"」创建\n",
    "\"This is a string.\"\n",
    "\n",
    "# 字符字面量可用「'」创建\n",
    "'a'"
   ]
  },
  {
   "cell_type": "code",
   "execution_count": null,
   "metadata": {},
   "outputs": [],
   "source": [
    "# 字符串使用 UTF-8 编码\n",
    "# 可以像取数组取值一样用 index 取出对应字符\n",
    "ascii(\"This is a string\")[1]\n",
    "# => 'T': ASCII/Unicode U+0054 (category Lu: Letter, uppercase) \n",
    "# Julia 的 index 从 1 开始 :(\n",
    "# 但只有在字符串仅由 ASCII 字符构成时，字符串才能够被安全的引索\n",
    "# 因此建议使用遍历器 (map, for loops, 等)\n",
    "\n",
    "# $ 可用于字符插值:\n",
    "\"2 + 2 = $(2 + 2)\" # => \"2 + 2 = 4\"\n",
    "# 可以将任何 Julia 表达式放入括号。"
   ]
  },
  {
   "cell_type": "code",
   "execution_count": null,
   "metadata": {},
   "outputs": [],
   "source": [
    "# 另一种输出格式化字符串的方法是使用标准库 Printf 中的 Printf 宏\n",
    "using Printf\n",
    "@printf \"%d is less than %f\\n\" 4.5 5.3  # => 4 is less than 5.300000"
   ]
  },
  {
   "cell_type": "code",
   "execution_count": null,
   "metadata": {},
   "outputs": [],
   "source": [
    "# 打印字符串很容易\n",
    "println(\"I'm Julia. Nice to meet you!\") # => I'm Julia. Nice to meet you!\n",
    "\n",
    "# 字符串可以按字典序进行比较\n",
    "\"good\" > \"bye\" # => true\n",
    "\"good\" == \"good\" # => true\n",
    "\"1 + 2 = 3\" == \"1 + 2 = $(1 + 2)\" # => true"
   ]
  },
  {
   "cell_type": "markdown",
   "metadata": {},
   "source": [
    "### 2 变量与集合"
   ]
  },
  {
   "cell_type": "code",
   "execution_count": null,
   "metadata": {},
   "outputs": [],
   "source": [
    "# 给变量赋值就是声明变量\n",
    "some_var = 5 # => 5\n",
    "some_var # => 5\n",
    "\n",
    "# 访问未声明变量会抛出异常\n",
    "try\n",
    "    some_other_var # => ERROR: UndefVarError: some_other_var not defined\n",
    "catch e\n",
    "    println(e)\n",
    "end"
   ]
  },
  {
   "cell_type": "code",
   "execution_count": null,
   "metadata": {},
   "outputs": [],
   "source": [
    "# 变量名必须以下划线或字母开头\n",
    "# 之后任何字母，数字，下划线，叹号都是合法的。\n",
    "SomeOtherVar123! = 6 # => 6\n",
    "\n",
    "# 甚至可以用 unicode 字符\n",
    "☃ = 8 # => 8\n",
    "2 * π # => 6.28318530717958647692\n",
    "# 注意 Julia 的命名规约:\n",
    "#\n",
    "# * 名称可以用下划线「_」分割。\n",
    "#   不过一般不推荐使用下划线，除非不用变量名就会变得难于理解\n",
    "#\n",
    "# * 类型名以大写字母开头，单词以 CamelCase 方式连接，无下划线。\n",
    "#\n",
    "# * 函数与宏的名字小写，无下划线。\n",
    "#\n",
    "# * 会改变输入的函数名末位为「!」。\n",
    "#   这类函数有时被称为 mutating functions 或 in-place functions."
   ]
  },
  {
   "cell_type": "code",
   "execution_count": 14,
   "metadata": {},
   "outputs": [
    {
     "name": "stdout",
     "output_type": "stream",
     "text": [
      "BoundsError([7, 2, 4, 3, 4, 5, 6], (0,))\n"
     ]
    },
    {
     "data": {
      "text/plain": [
       "8-element Vector{Int64}:\n",
       " 1\n",
       " 2\n",
       " 3\n",
       " 4\n",
       " 5\n",
       " 1\n",
       " 2\n",
       " 3"
      ]
     },
     "metadata": {},
     "output_type": "display_data"
    }
   ],
   "source": [
    "# 数组存储一列值，index 从 1 开始\n",
    "a = Int64[]  # => 0-element Array{Int64,1}\n",
    "\n",
    "# 一维数组可以以逗号分隔值的方式声明\n",
    "b = [4, 5, 6]  # => 3-element Array{Int64,1}: [4, 5, 6]\n",
    "b = [4; 5; 6]  # => 3-element Array{Int64,1}: [4, 5, 6]\n",
    "b[1]    # => 4\n",
    "b[end]  # => 6\n",
    "\n",
    "# 二维数组以分号分隔维度\n",
    "matrix = [1 2; 3 4]  # => 2×2 Array{Int64,2}: [1 2; 3 4]\n",
    "\n",
    "# 指定数组的类型\n",
    "b = Int8[4, 5, 6]  # => 3-element Array{Int8,1}: [4, 5, 6]\n",
    "\n",
    "# 使用 push! 和 append! 往数组末尾添加元素\n",
    "push!(a, 1)    # => [1]\n",
    "push!(a, 2)    # => [1,2]\n",
    "push!(a, 4)    # => [1,2,4]\n",
    "push!(a, 3)    # => [1,2,4,3]\n",
    "append!(a, b)  # => [1,2,4,3,4,5,6]\n",
    "\n",
    "# 用 pop 弹出尾部的元素\n",
    "pop!(b)  # => 6\n",
    "b # => [4,5]\n",
    "\n",
    "# 再放回去\n",
    "push!(b, 6)  # => [4,5,6]\n",
    "b # => [4,5,6]\n",
    "\n",
    "a[1] # => 1 #  永远记住 Julia 的引索从 1 开始！而不是 0！\n",
    "\n",
    "# 用 end 可以直接取到最后索引。它可以用在任何索引表达式中\n",
    "a[end] # => 6\n",
    "\n",
    "# 数组还支持 popfirst! 和 pushfirst!\n",
    "popfirst!(a)  # => 1 \n",
    "a # => [2,4,3,4,5,6]\n",
    "pushfirst!(a, 7)  # => [7,2,4,3,4,5,6]\n",
    "a # => [7,2,4,3,4,5,6]\n",
    "\n",
    "# 以叹号结尾的函数名表示它会改变参数的值\n",
    "arr = [5, 4, 6]  # => 3-element Array{Int64,1}: [5,4,6]\n",
    "sort(arr)   # => [4,5,6]\n",
    "arr         # => [5,4,6]\n",
    "sort!(arr)  # => [4,5,6]\n",
    "arr         # => [4,5,6]\n",
    "\n",
    "# 数组越界会抛出 BoundsError\n",
    "try\n",
    "    a[0]\n",
    "    # => ERROR: BoundsError: attempt to access 7-element Array{Int64,1} at \n",
    "    # index [0]\n",
    "    # => Stacktrace:\n",
    "    # =>  [1] getindex(::Array{Int64,1}, ::Int64) at .\\array.jl:731\n",
    "    # =>  [2] top-level scope at none:0\n",
    "    # =>  [3] ...\n",
    "    # => in expression starting at ...\\LearnJulia.jl:203\n",
    "    a[end+1]\n",
    "    # => ERROR: BoundsError: attempt to access 7-element Array{Int64,1} at \n",
    "    # index [8]\n",
    "    # => Stacktrace:\n",
    "    # =>  [1] getindex(::Array{Int64,1}, ::Int64) at .\\array.jl:731\n",
    "    # =>  [2] top-level scope at none:0\n",
    "    # =>  [3] ...\n",
    "    # => in expression starting at ...\\LearnJulia.jl:211\n",
    "catch e\n",
    "    println(e)\n",
    "end\n",
    "\n",
    "# 报错时错误会指出出错的文件位置以及行号，标准库也一样\n",
    "# 你可以在 Julia 安装目录下的 share/julia 文件夹里找到这些标准库\n",
    "\n",
    "# 可以用 range 初始化数组\n",
    "a = [1:5;]  # => 5-element Array{Int64,1}: [1,2,3,4,5]\n",
    "# 注意！分号不可省略\n",
    "a2 = [1:5]  # => 1-element Array{UnitRange{Int64},1}: [1:5]\n",
    "\n",
    "# 可以分割数组\n",
    "a[1:3] # => 3-element Array{Int64,1}: [1,2,3]\n",
    "a[1:end] # => 5-element Array{Int64,1}: [1,2,3,4,5] \n",
    "\n",
    "# 用 splice! 切割原数组\n",
    "arr = [5, 4, 6]\n",
    "splice!(arr, 2) # => 4\n",
    "arr # => [5,6]\n",
    "\n",
    "# 用 append! 连接数组\n",
    "b = [1, 2, 3]\n",
    "append!(a, b) # => 8-element Array{Int64,1}: [1,2,3,1,2,3]\n",
    "a"
   ]
  },
  {
   "cell_type": "code",
   "execution_count": 17,
   "metadata": {},
   "outputs": [
    {
     "name": "stdout",
     "output_type": "stream",
     "text": [
      "MethodError"
     ]
    },
    {
     "name": "stdout",
     "output_type": "stream",
     "text": [
      "(setindex!, ((1, 2, 3), 3, 1), 0x00000000000082e5)\n"
     ]
    }
   ],
   "source": [
    "# 检查元素是否在数组中\n",
    "in(1, a)\n",
    "\n",
    "# 用 length 获得数组长度\n",
    "length(a)\n",
    "\n",
    "# 元组(Tuples)是不可变的\n",
    "tup = (1, 2, 3)  # => (1,2,3)\n",
    "typeof(tup) # => Tuple{Int64,Int64,Int64}\n",
    "tup[1] # => 1\n",
    "try\n",
    "    tup[1] = 3\n",
    "    # => ERROR: MethodError: no method matching \n",
    "    # setindex!(::Tuple{Int64,Int64,Int64}, ::Int64, ::Int64)\n",
    "catch e\n",
    "    println(e)\n",
    "end\n"
   ]
  },
  {
   "cell_type": "code",
   "execution_count": null,
   "metadata": {},
   "outputs": [],
   "source": [
    "# 大多数组的函数同样支持元组\n",
    "length(tup) # => 3\n",
    "tup[1:2]    # => (1,2)\n",
    "in(2, tup)  # => true\n",
    "\n",
    "# 可以将元组的元素解包赋给变量\n",
    "a, b, c = (1, 2, 3)  # => (1,2,3)  \n",
    "a # => 1\n",
    "b # => 2\n",
    "c # => 3\n",
    "\n",
    "# 不用括号也可以\n",
    "d, e, f = 4, 5, 6  # => (4,5,6)\n",
    "d # => 4\n",
    "e # => 5\n",
    "f # => 6\n",
    "\n",
    "# 单元素 tuple 不等于其元素值\n",
    "(1,) == 1 # => false\n",
    "(1) == 1  # => true\n",
    "\n",
    "# 交换值\n",
    "e, d = d, e  # => (5,4) \n",
    "d # => 5\n",
    "e # => 4"
   ]
  },
  {
   "cell_type": "code",
   "execution_count": 18,
   "metadata": {},
   "outputs": [
    {
     "data": {
      "text/plain": [
       "ValueIterator for a Dict{String, Int64} with 3 entries. Values:\n",
       "  2\n",
       "  1\n",
       "  3"
      ]
     },
     "metadata": {},
     "output_type": "display_data"
    }
   ],
   "source": [
    "# 字典用于储存映射(mappings)（键值对）\n",
    "empty_dict = Dict()  # => Dict{Any,Any} with 0 entries\n",
    "\n",
    "# 也可以用字面量创建字典\n",
    "filled_dict = Dict(\"one\" => 1, \"two\" => 2, \"three\" => 3)\n",
    "# => Dict{String,Int64} with 3 entries:\n",
    "# =>  \"two\" => 2, \"one\" => 1, \"three\" => 3\n",
    "\n",
    "# 用 [] 获得键值\n",
    "filled_dict[\"one\"] # => 1\n",
    "\n",
    "# 获得所有键\n",
    "keys(filled_dict)\n",
    "# => Base.KeySet for a Dict{String,Int64} with 3 entries. Keys:\n",
    "# =>  \"two\", \"one\", \"three\"\n",
    "# 注意，键的顺序不是插入时的顺序\n",
    "\n",
    "# 获得所有值\n",
    "values(filled_dict)\n",
    "# => Base.ValueIterator for a Dict{String,Int64} with 3 entries. Values: \n",
    "# =>  2, 1, 3\n",
    "# 注意，值的顺序也一样"
   ]
  },
  {
   "cell_type": "code",
   "execution_count": null,
   "metadata": {},
   "outputs": [],
   "source": [
    "# 用 in 检查键值是否已存在，用 haskey 检查键是否存在\n",
    "in((\"one\" => 1), filled_dict)  # => true\n",
    "in((\"two\" => 3), filled_dict)  # => false\n",
    "haskey(filled_dict, \"one\")     # => true\n",
    "haskey(filled_dict, 1)         # => false\n",
    "\n",
    "# 获取不存在的键的值会抛出异常\n",
    "try\n",
    "    filled_dict[\"four\"]  # => ERROR: KeyError: key \"four\" not found\n",
    "catch e\n",
    "    println(e)\n",
    "end\n",
    "\n",
    "# 使用 get 可以提供默认值来避免异常\n",
    "# get(dictionary,key,default_value)\n",
    "get(filled_dict, \"one\", 4)   # => 1\n",
    "get(filled_dict, \"four\", 4)  # => 4\n"
   ]
  },
  {
   "cell_type": "code",
   "execution_count": 19,
   "metadata": {},
   "outputs": [
    {
     "data": {
      "text/plain": [
       "Set{Int64} with 2 elements:\n",
       "  4\n",
       "  1"
      ]
     },
     "metadata": {},
     "output_type": "display_data"
    }
   ],
   "source": [
    "# Set 表示无序不可重复的值的集合\n",
    "empty_set = Set()  # => Set(Any[])\n",
    "# 初始化一个带初值的 Set\n",
    "filled_set = Set([1, 2, 2, 3, 4])  # => Set([4, 2, 3, 1])\n",
    "\n",
    "# 新增值\n",
    "push!(filled_set, 5)  # => Set([4, 2, 3, 5, 1])\n",
    "\n",
    "# 检查 Set 中是否存在某值\n",
    "in(2, filled_set)   # => true\n",
    "in(10, filled_set)  # => false\n",
    "\n",
    "# 交集，并集，差集\n",
    "other_set = Set([3, 4, 5, 6])         # => Set([4, 3, 5, 6])\n",
    "intersect(filled_set, other_set)      # => Set([4, 3, 5])\n",
    "union(filled_set, other_set)          # => Set([4, 2, 3, 5, 6, 1])\n",
    "setdiff(Set([1, 2, 3, 4]), Set([2, 3, 5])) # => Set([4, 1])\n"
   ]
  }
 ],
 "metadata": {
  "kernelspec": {
   "display_name": "Julia 1.10.0",
   "language": "julia",
   "name": "julia-1.10"
  },
  "language_info": {
   "file_extension": ".jl",
   "mimetype": "application/julia",
   "name": "julia",
   "version": "1.10.0"
  }
 },
 "nbformat": 4,
 "nbformat_minor": 2
}
