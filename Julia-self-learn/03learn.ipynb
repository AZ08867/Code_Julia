{
 "cells": [
  {
   "cell_type": "markdown",
   "metadata": {},
   "source": [
    "### 3 控制语句"
   ]
  },
  {
   "cell_type": "code",
   "execution_count": 2,
   "metadata": {},
   "outputs": [
    {
     "name": "stdout",
     "output_type": "stream",
     "text": [
      "some_var is smaller than 10.\n"
     ]
    }
   ],
   "source": [
    "# 声明一个变量并赋值\n",
    "some_var = 5\n",
    "\n",
    "if some_var > 10\n",
    "    println(\"some_var is totally bigger than 10.\")\n",
    "elseif some_var < 10    # elseif 是可选的\n",
    "    println(\"some_var is smaller than 10.\")\n",
    "else                    # else 也是可选的\n",
    "    println(\"some_var is indeed 10.\")\n",
    "end\n",
    "# => some_var is smaller than 10."
   ]
  },
  {
   "cell_type": "code",
   "execution_count": 1,
   "metadata": {},
   "outputs": [
    {
     "name": "stdout",
     "output_type": "stream",
     "text": [
      "cat is a mammal\n",
      "dog is a mammal\n",
      "penguin is a mammal\n",
      "mouse is a mammal\n",
      "dog is a mammal\n",
      "cat is a mammal\n",
      "mouse is a mammal\n",
      "mouse is a mammal\n",
      "cat is a mammal\n",
      "dog is a mammal\n",
      "mouse is a mammal\n",
      "cat is a mammal\n",
      "dog is a mammal\n"
     ]
    }
   ],
   "source": [
    "# for 适用于Range, Array, Set, Dict 和 AbstractString\n",
    "for animal = [\"cat\", \"dog\", \"penguin\", \"mouse\"]\n",
    "    println(\"$animal is a mammal\")\n",
    "end\n",
    "# => cat is a mammal\n",
    "# => dog is a mammal\n",
    "# => penguin is a mammal\n",
    "# => mouse is a mammal\n",
    "\n",
    "# 方式二\n",
    "for animal in [\"dog\", \"cat\", \"mouse\"]\n",
    "    println(\"$animal is a mammal\")\n",
    "end\n",
    "# => dog is a mammal\n",
    "# => cat is a mammal\n",
    "# => mouse is a mammal\n",
    "\n",
    "for pair in Dict(\"dog\" => \"mammal\", \"cat\" => \"mammal\", \"mouse\" => \"mammal\")\n",
    "    from, to = pair\n",
    "    println(\"$from is a $to\")\n",
    "end\n",
    "# => mouse is a mammal\n",
    "# => cat is a mammal\n",
    "# => dog is a mammal\n",
    "# 注意！这里的输出顺序和上面的不同\n",
    "\n",
    "for (k, v) in Dict(\"dog\" => \"mammal\", \"cat\" => \"mammal\", \"mouse\" => \"mammal\")\n",
    "    println(\"$k is a $v\")\n",
    "end\n",
    "# => mouse is a mammal\n",
    "# => cat is a mammal\n",
    "# => dog is a mammal"
   ]
  },
  {
   "cell_type": "code",
   "execution_count": 3,
   "metadata": {},
   "outputs": [
    {
     "name": "stdout",
     "output_type": "stream",
     "text": [
      "x is now 0\n",
      "x is now 1\n",
      "x is now 2\n",
      "x is now 3\n",
      "caught it ErrorException(\"help\")\n"
     ]
    }
   ],
   "source": [
    "# while循环\n",
    "let x = 0\n",
    "    while x < 4\n",
    "        println(\"x is now $x\")\n",
    "        x += 1\n",
    "    end\n",
    "end\n",
    "\n",
    "# => x is now 0\n",
    "# => x is now 1\n",
    "# => x is now 2\n",
    "# => x is now 3\n",
    "\n",
    "# 用 try/catch 处理异常\n",
    "try\n",
    "    error(\"help\")\n",
    "catch e\n",
    "    println(\"caught it $e\")\n",
    "end\n",
    "# => caught it ErrorException(\"help\")"
   ]
  }
 ],
 "metadata": {
  "kernelspec": {
   "display_name": "Julia 1.10.0",
   "language": "julia",
   "name": "julia-1.10"
  },
  "language_info": {
   "file_extension": ".jl",
   "mimetype": "application/julia",
   "name": "julia",
   "version": "1.10.0"
  }
 },
 "nbformat": 4,
 "nbformat_minor": 2
}
